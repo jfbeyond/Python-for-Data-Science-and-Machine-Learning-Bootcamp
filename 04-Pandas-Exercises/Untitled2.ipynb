{
 "cells": [
  {
   "cell_type": "code",
   "execution_count": 1,
   "metadata": {},
   "outputs": [],
   "source": [
    "import pandas as pd"
   ]
  },
  {
   "cell_type": "code",
   "execution_count": 2,
   "metadata": {},
   "outputs": [],
   "source": [
    "pur = pd.read_csv('Ecommerce Purchases')"
   ]
  },
  {
   "cell_type": "code",
   "execution_count": 5,
   "metadata": {},
   "outputs": [
    {
     "data": {
      "text/plain": [
       "Address             1033\n",
       "Lot                 1033\n",
       "AM or PM            1033\n",
       "Browser Info        1033\n",
       "Company             1033\n",
       "Credit Card         1033\n",
       "CC Exp Date         1033\n",
       "CC Security Code    1033\n",
       "CC Provider         1033\n",
       "Email               1033\n",
       "Job                 1033\n",
       "IP Address          1033\n",
       "Language            1033\n",
       "Purchase Price      1033\n",
       "dtype: int64"
      ]
     },
     "execution_count": 5,
     "metadata": {},
     "output_type": "execute_result"
    }
   ],
   "source": [
    "pur[pur['CC Exp Date'].apply(lambda x:x[3:]) == '25'].count()"
   ]
  }
 ],
 "metadata": {
  "kernelspec": {
   "display_name": "Python 3",
   "language": "python",
   "name": "python3"
  },
  "language_info": {
   "codemirror_mode": {
    "name": "ipython",
    "version": 3
   },
   "file_extension": ".py",
   "mimetype": "text/x-python",
   "name": "python",
   "nbconvert_exporter": "python",
   "pygments_lexer": "ipython3",
   "version": "3.7.3"
  }
 },
 "nbformat": 4,
 "nbformat_minor": 2
}
